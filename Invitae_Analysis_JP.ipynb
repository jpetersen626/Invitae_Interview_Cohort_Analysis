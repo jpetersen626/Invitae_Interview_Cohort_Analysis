{
 "cells": [
  {
   "cell_type": "markdown",
   "id": "25bad04c-dd65-4570-9ed1-b3bafd981e33",
   "metadata": {},
   "source": [
    "# Invitae Cohort Analysis"
   ]
  },
  {
   "cell_type": "markdown",
   "id": "2fb9e79e-bb48-47c3-aee4-11e3def816d8",
   "metadata": {},
   "source": [
    "By Jackie Petersen"
   ]
  },
  {
   "cell_type": "markdown",
   "id": "fc23bc42-7f08-4910-b01b-1f5af015596c",
   "metadata": {},
   "source": [
    "---"
   ]
  },
  {
   "cell_type": "code",
   "execution_count": 1,
   "id": "15ec2275-8627-471d-a5b9-9d4eb1a23a34",
   "metadata": {},
   "outputs": [],
   "source": [
    "# imports\n",
    "import numpy as np\n",
    "import pandas as pd\n",
    "import matplotlib.pyplot as plt\n",
    "import seaborn as sns"
   ]
  },
  {
   "cell_type": "code",
   "execution_count": 6,
   "id": "8a25f892-6f2c-4017-bcf7-a11e6206c579",
   "metadata": {},
   "outputs": [],
   "source": [
    "# reading in the data\n",
    "orders = pd.read_csv('orders.csv')\n",
    "customers = pd.read_csv('customers.csv')"
   ]
  },
  {
   "cell_type": "code",
   "execution_count": 7,
   "id": "ec335bbe-878f-4a1f-ac37-1413d43a541b",
   "metadata": {},
   "outputs": [
    {
     "data": {
      "text/html": [
       "<div>\n",
       "<style scoped>\n",
       "    .dataframe tbody tr th:only-of-type {\n",
       "        vertical-align: middle;\n",
       "    }\n",
       "\n",
       "    .dataframe tbody tr th {\n",
       "        vertical-align: top;\n",
       "    }\n",
       "\n",
       "    .dataframe thead th {\n",
       "        text-align: right;\n",
       "    }\n",
       "</style>\n",
       "<table border=\"1\" class=\"dataframe\">\n",
       "  <thead>\n",
       "    <tr style=\"text-align: right;\">\n",
       "      <th></th>\n",
       "      <th>id</th>\n",
       "      <th>order_number</th>\n",
       "      <th>user_id</th>\n",
       "      <th>created</th>\n",
       "    </tr>\n",
       "  </thead>\n",
       "  <tbody>\n",
       "    <tr>\n",
       "      <th>0</th>\n",
       "      <td>1709</td>\n",
       "      <td>36</td>\n",
       "      <td>344</td>\n",
       "      <td>2014-10-28 00:20:01</td>\n",
       "    </tr>\n",
       "    <tr>\n",
       "      <th>1</th>\n",
       "      <td>1406</td>\n",
       "      <td>7</td>\n",
       "      <td>608</td>\n",
       "      <td>2014-10-14 23:44:53</td>\n",
       "    </tr>\n",
       "    <tr>\n",
       "      <th>2</th>\n",
       "      <td>1716</td>\n",
       "      <td>6</td>\n",
       "      <td>2296</td>\n",
       "      <td>2014-10-28 17:47:07</td>\n",
       "    </tr>\n",
       "    <tr>\n",
       "      <th>3</th>\n",
       "      <td>1426</td>\n",
       "      <td>2</td>\n",
       "      <td>1225</td>\n",
       "      <td>2014-10-15 18:33:38</td>\n",
       "    </tr>\n",
       "    <tr>\n",
       "      <th>4</th>\n",
       "      <td>1415</td>\n",
       "      <td>6</td>\n",
       "      <td>797</td>\n",
       "      <td>2014-10-15 02:07:16</td>\n",
       "    </tr>\n",
       "  </tbody>\n",
       "</table>\n",
       "</div>"
      ],
      "text/plain": [
       "     id  order_number  user_id              created\n",
       "0  1709            36      344  2014-10-28 00:20:01\n",
       "1  1406             7      608  2014-10-14 23:44:53\n",
       "2  1716             6     2296  2014-10-28 17:47:07\n",
       "3  1426             2     1225  2014-10-15 18:33:38\n",
       "4  1415             6      797  2014-10-15 02:07:16"
      ]
     },
     "execution_count": 7,
     "metadata": {},
     "output_type": "execute_result"
    }
   ],
   "source": [
    "orders.head()"
   ]
  },
  {
   "cell_type": "code",
   "execution_count": 8,
   "id": "b5dd824f-de18-4b1f-9bb1-b745037e75da",
   "metadata": {},
   "outputs": [
    {
     "data": {
      "text/html": [
       "<div>\n",
       "<style scoped>\n",
       "    .dataframe tbody tr th:only-of-type {\n",
       "        vertical-align: middle;\n",
       "    }\n",
       "\n",
       "    .dataframe tbody tr th {\n",
       "        vertical-align: top;\n",
       "    }\n",
       "\n",
       "    .dataframe thead th {\n",
       "        text-align: right;\n",
       "    }\n",
       "</style>\n",
       "<table border=\"1\" class=\"dataframe\">\n",
       "  <thead>\n",
       "    <tr style=\"text-align: right;\">\n",
       "      <th></th>\n",
       "      <th>id</th>\n",
       "      <th>created</th>\n",
       "    </tr>\n",
       "  </thead>\n",
       "  <tbody>\n",
       "    <tr>\n",
       "      <th>0</th>\n",
       "      <td>35410</td>\n",
       "      <td>2015-07-03 22:01:11</td>\n",
       "    </tr>\n",
       "    <tr>\n",
       "      <th>1</th>\n",
       "      <td>35417</td>\n",
       "      <td>2015-07-03 22:11:23</td>\n",
       "    </tr>\n",
       "    <tr>\n",
       "      <th>2</th>\n",
       "      <td>35412</td>\n",
       "      <td>2015-07-03 22:02:52</td>\n",
       "    </tr>\n",
       "    <tr>\n",
       "      <th>3</th>\n",
       "      <td>35413</td>\n",
       "      <td>2015-07-03 22:05:02</td>\n",
       "    </tr>\n",
       "    <tr>\n",
       "      <th>4</th>\n",
       "      <td>35424</td>\n",
       "      <td>2015-07-03 22:21:55</td>\n",
       "    </tr>\n",
       "  </tbody>\n",
       "</table>\n",
       "</div>"
      ],
      "text/plain": [
       "      id              created\n",
       "0  35410  2015-07-03 22:01:11\n",
       "1  35417  2015-07-03 22:11:23\n",
       "2  35412  2015-07-03 22:02:52\n",
       "3  35413  2015-07-03 22:05:02\n",
       "4  35424  2015-07-03 22:21:55"
      ]
     },
     "execution_count": 8,
     "metadata": {},
     "output_type": "execute_result"
    }
   ],
   "source": [
    "customers.head()"
   ]
  },
  {
   "cell_type": "code",
   "execution_count": null,
   "id": "b6235474-2625-437c-9cb2-4e6ece28032d",
   "metadata": {},
   "outputs": [],
   "source": []
  }
 ],
 "metadata": {
  "kernelspec": {
   "display_name": "Python 3 (ipykernel)",
   "language": "python",
   "name": "python3"
  },
  "language_info": {
   "codemirror_mode": {
    "name": "ipython",
    "version": 3
   },
   "file_extension": ".py",
   "mimetype": "text/x-python",
   "name": "python",
   "nbconvert_exporter": "python",
   "pygments_lexer": "ipython3",
   "version": "3.9.7"
  }
 },
 "nbformat": 4,
 "nbformat_minor": 5
}
